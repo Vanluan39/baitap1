{
  "cells": [
    {
      "cell_type": "markdown",
      "metadata": {
        "id": "view-in-github",
        "colab_type": "text"
      },
      "source": [
        "<a href=\"https://colab.research.google.com/github/Vanluan39/baitap1/blob/main/week11.ipynb\" target=\"_parent\"><img src=\"https://colab.research.google.com/assets/colab-badge.svg\" alt=\"Open In Colab\"/></a>"
      ]
    },
    {
      "cell_type": "code",
      "execution_count": null,
      "metadata": {
        "id": "TPecTZJQYVyG"
      },
      "outputs": [],
      "source": [
        "from keras.datasets import fashion_mnist\n",
        "import matplotlib.pyplot as plt\n",
        "\n",
        "(x_train, y_train), (x_test, y_test) = fashion_mnist.load_data()\n",
        "\n",
        "for i in range(20):\n",
        "    plt.subplot(5, 6, i + 1)\n",
        "    plt.imshow(x_train[i],cmap='gray',\n",
        "               interpolation='none')\n",
        "plt.show()\n",
        "\n",
        "x_train= x_train.reshape(60000,28,28,1)\n",
        "x_train = x_train.astype('float32') / 255\n",
        "x_test = x_test.astype('float32') / 255\n",
        "\n",
        "from keras.utils import to_categorical\n",
        "y_train= to_categorical(y_train,10)\n",
        "y_test= to_categorical(y_test,10)\n",
        "\n",
        "print(y_train.shape)\n",
        "print(y_test.shape)\n",
        "\n"
      ]
    },
    {
      "cell_type": "code",
      "execution_count": null,
      "metadata": {
        "id": "nhk7srfCbA3g"
      },
      "outputs": [],
      "source": [
        "from keras.models import Sequential,Model\n",
        "from keras.layers import Dense,Flatten,Conv2D,MaxPooling2D,Normalization,LeakyReLU\n",
        "from keras.optimizers import Adam\n",
        "\n",
        "model=Sequential()\n",
        "#dang1\n",
        "#32 lan tich chap(Conv2D)\n",
        "#kernel_size: kich thuoc bo loc\n",
        "model.add(Conv2D(32,kernel_size=(3,3),activation='linear',\n",
        "                 input_shape=(28,28,1),padding='same'))\n",
        "#Bo loc LeakyReLU\n",
        "model.add(LeakyReLU(alpha=0.1))\n",
        "#Tao max_padding\n",
        "model.add(MaxPooling2D((2,2),padding='same'))\n",
        "\n",
        "batch_size=64\n",
        "epochs=20\n",
        "classes=10\n",
        "\n",
        "#dang2\n",
        "model.add(Conv2D(64,(3,3),activation='linear',padding='same'))\n",
        "model.add(LeakyReLU(alpha=0.1))\n",
        "model.add(MaxPooling2D((2,2),padding='same'))\n",
        "#Taoj ra CNN\n",
        "model.add(Flatten())\n",
        "model.add(Dense(128,activation='linear'))\n",
        "model.add(LeakyReLU(alpha=0.1))\n",
        "model.add(Dense(classes,activation='softmax'))\n",
        "model.summary()\n",
        "\n"
      ]
    },
    {
      "cell_type": "code",
      "source": [
        "from keras.losses import categorical_crossentropy\n",
        "model.compile(loss=categorical_crossentropy,optimizer=Adam(),metrics=['accuracy'])\n",
        "train=model.fit(x_train,y_train,batch_size=batch_size,epochs=epochs, verbose=1)\n"
      ],
      "metadata": {
        "id": "_b_Knze9fPLO"
      },
      "execution_count": null,
      "outputs": []
    },
    {
      "cell_type": "code",
      "source": [
        "model.save('model1.h5')\n",
        "test = model.evaluate(x_test, y_test, verbose =0)\n",
        "print('Test less:', test[0])\n",
        "print('Test accuracy:', test[1])\n",
        "loss=train.history['loss']\n",
        "accuracy=train.history['accuracy']\n",
        "epochs= range(len(accuracy))\n",
        "plt.plot(epochs, accuracy,'bo', label='Traing accuracy')\n",
        "plt.plot(epochs, loss, 'b', label='Training loss')\n",
        "plt.legend()\n",
        "plt.show()"
      ],
      "metadata": {
        "id": "AZIgvCeVk3vD"
      },
      "execution_count": null,
      "outputs": []
    }
  ],
  "metadata": {
    "colab": {
      "private_outputs": true,
      "provenance": [],
      "authorship_tag": "ABX9TyOP68/G4FIPthevkUjmbJOT",
      "include_colab_link": true
    },
    "kernelspec": {
      "display_name": "Python 3",
      "name": "python3"
    },
    "language_info": {
      "name": "python"
    },
    "accelerator": "GPU",
    "gpuClass": "standard"
  },
  "nbformat": 4,
  "nbformat_minor": 0
}